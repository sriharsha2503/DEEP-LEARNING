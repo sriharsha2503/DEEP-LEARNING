{
  "nbformat": 4,
  "nbformat_minor": 0,
  "metadata": {
    "colab": {
      "provenance": []
    },
    "kernelspec": {
      "name": "python3",
      "display_name": "Python 3"
    },
    "language_info": {
      "name": "python"
    }
  },
  "cells": [
    {
      "cell_type": "code",
      "execution_count": 1,
      "metadata": {
        "colab": {
          "base_uri": "https://localhost:8080/"
        },
        "id": "9EEKagzwC2eW",
        "outputId": "e2ec956b-24ba-4004-9d4d-22642052c3ce"
      },
      "outputs": [
        {
          "output_type": "stream",
          "name": "stderr",
          "text": [
            "100%|██████████| 9.91M/9.91M [00:00<00:00, 129MB/s]\n",
            "100%|██████████| 28.9k/28.9k [00:00<00:00, 37.2MB/s]\n",
            "100%|██████████| 1.65M/1.65M [00:00<00:00, 33.2MB/s]\n",
            "100%|██████████| 4.54k/4.54k [00:00<00:00, 6.30MB/s]\n"
          ]
        },
        {
          "output_type": "stream",
          "name": "stdout",
          "text": [
            "Epoch 1, Loss: 0.0264\n",
            "Epoch 2, Loss: 0.0183\n",
            "Epoch 3, Loss: 0.0141\n",
            "Epoch 4, Loss: 0.0139\n",
            "Epoch 5, Loss: 0.0108\n"
          ]
        }
      ],
      "source": [
        "import torch\n",
        "import torch.nn as nn\n",
        "import torchvision.transforms as transforms\n",
        "import torchvision.datasets as datasets\n",
        "from torch.utils.data import DataLoader\n",
        "\n",
        "# Autoencoder architecture\n",
        "class AutoEncoder(nn.Module):\n",
        "    def __init__(self):\n",
        "        super(AutoEncoder, self).__init__()\n",
        "        self.encoder = nn.Sequential(\n",
        "            nn.Linear(784, 128),\n",
        "            nn.ReLU(),\n",
        "            nn.Linear(128, 64),\n",
        "            nn.ReLU()\n",
        "        )\n",
        "        self.decoder = nn.Sequential(\n",
        "            nn.Linear(64, 128),\n",
        "            nn.ReLU(),\n",
        "            nn.Linear(128, 784),\n",
        "            nn.Sigmoid()\n",
        "        )\n",
        "\n",
        "    def forward(self, x):\n",
        "        encoded = self.encoder(x)\n",
        "        decoded = self.decoder(encoded)\n",
        "        return decoded\n",
        "\n",
        "# MNIST Dataloader\n",
        "transform = transforms.ToTensor()\n",
        "train_dataset = datasets.MNIST(root='./data', train=True, transform=transform, download=True)\n",
        "train_loader = DataLoader(train_dataset, batch_size=128, shuffle=True)\n",
        "\n",
        "# Model, loss, optimizer\n",
        "device = torch.device(\"cuda\" if torch.cuda.is_available() else \"cpu\")\n",
        "model = AutoEncoder().to(device)\n",
        "criterion = nn.MSELoss()\n",
        "optimizer = torch.optim.Adam(model.parameters(), lr=1e-3)\n",
        "\n",
        "# Training loop\n",
        "\n",
        "for epoch in range(5):\n",
        "    for batch in train_loader:\n",
        "        imgs, _ = batch\n",
        "        imgs = imgs.view(imgs.size(0), -1).to(device)\n",
        "\n",
        "        outputs = model(imgs)\n",
        "        loss = criterion(outputs, imgs)\n",
        "\n",
        "        optimizer.zero_grad()\n",
        "        loss.backward()\n",
        "        optimizer.step()\n",
        "\n",
        "    print(f\"Epoch {epoch+1}, Loss: {loss.item():.4f}\")"
      ]
    },
    {
      "cell_type": "code",
      "source": [
        "import torch\n",
        "import torch.nn as nn\n",
        "import torch.nn.functional as F\n",
        "import torchvision.datasets as datasets\n",
        "import torchvision.transforms as transforms\n",
        "from torch.utils.data import DataLoader\n",
        "import matplotlib.pyplot as plt\n",
        "\n",
        "# Device configuration\n",
        "device = torch.device(\"cuda\" if torch.cuda.is_available() else \"cpu\")\n",
        "batch_size = 128\n",
        "\n",
        "# Load MNIST dataset\n",
        "transform = transforms.ToTensor()\n",
        "train_dataset = datasets.MNIST(root='./data', train=True, transform=transform, download=True)\n",
        "train_data_loader = DataLoader(train_dataset, batch_size=batch_size, shuffle=True)\n",
        "\n",
        "# Variational Autoencoder Model\n",
        "class VariationalAutoEncoder(nn.Module):\n",
        "    def __init__(self):\n",
        "        super().__init__()\n",
        "\n",
        "        # Encoder\n",
        "        self.Encoder = nn.Sequential(\n",
        "            nn.Linear(784, 256, bias=True),\n",
        "            nn.ReLU(),\n",
        "            nn.Dropout(0.2),\n",
        "            nn.Linear(256, 128, bias=True),\n",
        "            nn.ReLU()\n",
        "        )\n",
        "\n",
        "        self.mean = nn.Linear(128, 10, bias=True)\n",
        "        self.std = nn.Linear(128, 10, bias=True)\n",
        "\n",
        "        # Decoder\n",
        "        self.Decoder = nn.Sequential(\n",
        "            nn.Linear(10, 128),\n",
        "            nn.BatchNorm1d(128),\n",
        "            nn.ReLU(),\n",
        "            nn.Linear(128, 256, bias=True),\n",
        "            nn.ReLU(),\n",
        "            nn.Linear(256, 784, bias=True),\n",
        "            nn.Sigmoid()\n",
        "        )\n",
        "\n",
        "    def forward(self, x):\n",
        "        enc = self.Encoder(x)\n",
        "        mean = self.mean(enc)\n",
        "        std = self.std(enc)\n",
        "        z = mean + std * torch.randn_like(std)\n",
        "        y = self.Decoder(z)\n",
        "        return mean, std, y.view(-1, 1, 28, 28)\n",
        "\n",
        "# Loss Function for VAE\n",
        "def loss_function(x, x_hat, mean, log_var):\n",
        "    reproduction_loss = F.binary_cross_entropy(x_hat.view(-1, 784), x.view(-1, 784), reduction='sum')\n",
        "    KLD = -0.5 * torch.sum(1 + log_var - mean.pow(2) - log_var.exp())\n",
        "    return reproduction_loss + KLD\n",
        "\n",
        "# Train for one epoch\n",
        "def train_one_epoch(epoch_index):\n",
        "    total_loss = 0\n",
        "    model.train()\n",
        "\n",
        "    for i, data in enumerate(train_data_loader):\n",
        "        inputs, _ = data\n",
        "        inputs = inputs.to(device)\n",
        "\n",
        "        optimizer.zero_grad()\n",
        "        mean, std, outputs = model(inputs.view(-1, 784))\n",
        "        loss = loss_function(inputs, outputs, mean, std)\n",
        "        loss.backward()\n",
        "        optimizer.step()\n",
        "\n",
        "        total_loss += loss.item()\n",
        "\n",
        "    print(f\"Epoch {epoch_index+1}, Loss: {total_loss / (len(train_data_loader) * batch_size):.4f}\")\n",
        "\n",
        "# Instantiate model, optimizer\n",
        "model = VariationalAutoEncoder().to(device)\n",
        "optimizer = torch.optim.Adam(model.parameters(), lr=1e-3)\n",
        "\n",
        "# Training loop\n",
        "for epoch in range(5):\n",
        "    train_one_epoch(epoch)\n",
        "\n",
        "# Generate synthetic digits\n",
        "def generate_digit():\n",
        "    model.eval()  # Switch to evaluation mode\n",
        "    with torch.no_grad():  # Disable gradient computation\n",
        "        mean = torch.zeros((1, 10)).to(device)\n",
        "        var = torch.ones((1, 10)).to(device)\n",
        "        z_sample = mean + var * torch.randn_like(var)\n",
        "        x_decoded = model.Decoder(z_sample)\n",
        "        digit = x_decoded.detach().cpu().reshape(28, 28)\n",
        "        plt.imshow(digit, cmap='gray')\n",
        "        plt.axis('off')\n",
        "        plt.show()\n",
        "\n",
        "# Generate and visualize two digits\n",
        "generate_digit()\n",
        "generate_digit()\n"
      ],
      "metadata": {
        "colab": {
          "base_uri": "https://localhost:8080/",
          "height": 882
        },
        "id": "cGWlLNiNIaJV",
        "outputId": "5950b053-6922-4d30-9c6a-a71a8ee5372c"
      },
      "execution_count": 4,
      "outputs": [
        {
          "output_type": "stream",
          "name": "stdout",
          "text": [
            "Epoch 1, Loss: 146.0310\n",
            "Epoch 2, Loss: 111.0002\n",
            "Epoch 3, Loss: 104.7004\n",
            "Epoch 4, Loss: 101.3404\n",
            "Epoch 5, Loss: 99.0346\n"
          ]
        },
        {
          "output_type": "display_data",
          "data": {
            "text/plain": [
              "<Figure size 640x480 with 1 Axes>"
            ],
            "image/png": "[encoded data removed]"
          },
          "metadata": {}
        },
        {
          "output_type": "display_data",
          "data": {
            "text/plain": [
              "<Figure size 640x480 with 1 Axes>"
            ],
            "image/png": "[encoded data removed]"
          },
          "metadata": {}
        }
      ]
    }
  ]
}