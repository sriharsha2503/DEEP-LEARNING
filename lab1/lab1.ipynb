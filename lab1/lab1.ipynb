{
 "cells": [
  {
   "cell_type": "code",
   "execution_count": 2,
   "id": "1bd9135a-7b93-4e6d-9ac1-7ce0bd14f0b4",
   "metadata": {},
   "outputs": [
    {
     "name": "stdout",
     "output_type": "stream",
     "text": [
      "tensor([[1, 2],\n",
      "        [3, 4],\n",
      "        [5, 6]])\n",
      "tensor([[1, 2],\n",
      "        [3, 4]])\n",
      "tensor([[1, 2],\n",
      "        [3, 4]])\n",
      "tensor([[1, 2],\n",
      "        [3, 4]])\n",
      "tensor([[1, 2, 3]])\n"
     ]
    }
   ],
   "source": [
    "#Q1illustrate the functions for reshaping, veiwing,stacking,squeezing and unsqueezing of the tensors.\n",
    "import torch\n",
    "\n",
    "# Original tensor \n",
    "tensor = torch.tensor([[1, 2, 3], [4, 5, 6]])\n",
    "# Reshaping \n",
    "reshaped_tensor = tensor.reshape(3, 2)\n",
    "print(reshaped_tensor)\n",
    "\n",
    "tensor = torch.tensor([1, 2, 3, 4])\n",
    "# Viewing \n",
    "viewed_tensor = tensor.view(2, 2)\n",
    "print(viewed_tensor)\n",
    "\n",
    "tensor1 = torch.tensor([1, 2])\n",
    "tensor2 = torch.tensor([3, 4])\n",
    "# Stacking \n",
    "stacked_tensor = torch.stack((tensor1, tensor2), dim=0)\n",
    "print(stacked_tensor)\n",
    "\n",
    "tensor = torch.tensor([[[1, 2], [3, 4]]])\n",
    "# Squeezing \n",
    "squeezed_tensor = tensor.squeeze()\n",
    "print(squeezed_tensor)\n",
    "\n",
    "tensor = torch.tensor([1, 2, 3])\n",
    "# Unsqueezing\n",
    "unsqueezed_tensor = tensor.unsqueeze(0)\n",
    "print(unsqueezed_tensor)"
   ]
  },
  {
   "cell_type": "code",
   "execution_count": 12,
   "id": "7ba1ac81-5cd9-49ba-81af-1b92aa8e4842",
   "metadata": {},
   "outputs": [
    {
     "name": "stdout",
     "output_type": "stream",
     "text": [
      "Original Tensor:\n",
      "tensor([[-0.2731],\n",
      "        [ 0.8202],\n",
      "        [-0.4726]])\n",
      "Shape: torch.Size([3, 1])\n",
      "\n",
      "Permuted Tensor:\n",
      "tensor([[-0.2731,  0.8202, -0.4726]])\n",
      "Shape: torch.Size([1, 3])\n"
     ]
    }
   ],
   "source": [
    "#Q2illustrate the use of torch.permute()\n",
    "tensor = torch.randn(3,1)\n",
    "print(\"Original Tensor:\")\n",
    "print(tensor)\n",
    "print(\"Shape:\", tensor.shape)\n",
    "permuted_tensor = tensor.permute(1,0)\n",
    "print(\"\\nPermuted Tensor:\")\n",
    "print(permuted_tensor)\n",
    "print(\"Shape:\", permuted_tensor.shape)\n"
   ]
  },
  {
   "cell_type": "code",
   "execution_count": 4,
   "id": "7045ed17-1b9a-40ce-a917-e42f4f082044",
   "metadata": {},
   "outputs": [
    {
     "name": "stdout",
     "output_type": "stream",
     "text": [
      "Element at position (1, 2): 6\n"
     ]
    }
   ],
   "source": [
    "#Q3illustrate indexing in tensors.\n",
    "\n",
    "tensor = torch.tensor([[1, 2, 3], [4, 5, 6], [7, 8, 9]])\n",
    "element = tensor[1, 2]\n",
    "print(f\"Element at position (1, 2): {element}\")"
   ]
  },
  {
   "cell_type": "code",
   "execution_count": 5,
   "id": "4c22a62d-2021-4e2b-899b-1eeefabd1647",
   "metadata": {},
   "outputs": [
    {
     "name": "stdout",
     "output_type": "stream",
     "text": [
      "Sliced Tensor (rows 1-2, columns 0-1):\n",
      "tensor([[4, 5],\n",
      "        [7, 8]])\n"
     ]
    }
   ],
   "source": [
    "# Slice rows 1 and 2 (indexing from 0) and columns 0 and 1\n",
    "slice_tensor = tensor[1:3, 0:2]\n",
    "print(f\"Sliced Tensor (rows 1-2, columns 0-1):\\n{slice_tensor}\")"
   ]
  },
  {
   "cell_type": "code",
   "execution_count": 6,
   "id": "9d6121e0-7c93-4c24-8e45-d524d4ce1303",
   "metadata": {},
   "outputs": [
    {
     "name": "stdout",
     "output_type": "stream",
     "text": [
      "Extracted Elements: tensor([2, 8])\n"
     ]
    }
   ],
   "source": [
    "# Use a list of indices to access multiple elements\n",
    "indices = [0, 2]\n",
    "extracted_elements = tensor[indices, 1]  # Extract elements from columns 1, at rows 0 and 2\n",
    "print(f\"Extracted Elements: {extracted_elements}\")"
   ]
  },
  {
   "cell_type": "code",
   "execution_count": 7,
   "id": "bfb2dcbb-a982-48ca-8e13-c4331d8811ae",
   "metadata": {},
   "outputs": [
    {
     "name": "stdout",
     "output_type": "stream",
     "text": [
      "PyTorch Tensor: tensor([1, 2, 3, 4, 5])\n",
      "Converted back to NumPy Array: [1 2 3 4 5]\n"
     ]
    }
   ],
   "source": [
    "#Q4show how numpyarrays can be converted to tensors and back again to numpy arrays.\n",
    "import numpy as np\n",
    "numpy_array = np.array([1, 2, 3, 4, 5])\n",
    "# Convert NumPy array to PyTorch tensor\n",
    "tensor = torch.tensor(numpy_array)\n",
    "print(\"PyTorch Tensor:\", tensor)\n",
    "# Convert PyTorch tensor to a NumPy array\n",
    "numpy_array_back = tensor.numpy()\n",
    "print(\"Converted back to NumPy Array:\", numpy_array_back)"
   ]
  },
  {
   "cell_type": "code",
   "execution_count": 8,
   "id": "0d025885",
   "metadata": {
    "scrolled": true
   },
   "outputs": [
    {
     "data": {
      "text/plain": [
       "tensor([[4, 4, 0, 8, 8, 4, 5],\n",
       "        [5, 1, 0, 0, 7, 8, 8],\n",
       "        [9, 6, 3, 7, 8, 3, 0],\n",
       "        [4, 8, 2, 1, 4, 5, 4],\n",
       "        [1, 0, 5, 8, 7, 2, 0],\n",
       "        [2, 7, 1, 3, 5, 9, 4],\n",
       "        [8, 0, 8, 7, 5, 1, 5]])"
      ]
     },
     "execution_count": 8,
     "metadata": {},
     "output_type": "execute_result"
    }
   ],
   "source": [
    "#Q5create a random tensor with shape(7,7)\n",
    "random_tensor = torch.randint(0, 10, (7, 7))\n",
    "random_tensor\n"
   ]
  },
  {
   "cell_type": "code",
   "execution_count": 16,
   "id": "5dc771d7",
   "metadata": {},
   "outputs": [
    {
     "name": "stdout",
     "output_type": "stream",
     "text": [
      "Random Tensor (7x7):\n",
      "tensor([[5, 6, 9, 7, 5, 5, 1],\n",
      "        [6, 4, 9, 4, 7, 0, 8],\n",
      "        [4, 1, 5, 9, 2, 9, 0],\n",
      "        [0, 7, 3, 6, 5, 0, 5],\n",
      "        [3, 9, 1, 1, 8, 4, 3],\n",
      "        [8, 4, 0, 6, 8, 6, 3],\n",
      "        [5, 2, 1, 1, 3, 4, 4]])\n",
      "\n",
      "Second Tensor (1x7):\n",
      "tensor([[9, 6, 4, 1, 3, 4, 9]])\n",
      "\n",
      "Transposed Second Tensor (7x1):\n",
      "tensor([[9],\n",
      "        [6],\n",
      "        [4],\n",
      "        [1],\n",
      "        [3],\n",
      "        [4],\n",
      "        [9]])\n",
      "\n",
      "Result of Matrix Multiplication (7x1):\n",
      "tensor([[168],\n",
      "        [211],\n",
      "        [113],\n",
      "        [120],\n",
      "        [153],\n",
      "        [177],\n",
      "        [123]])\n"
     ]
    }
   ],
   "source": [
    "#Q6perform a matrix multiplication on the tensor from 2(above problem) with another random tensor with shape (1,7) (hint :you may have to transpose the second tensor)\n",
    "random_tensor = torch.randint(0, 10, (7, 7))\n",
    "print(\"Random Tensor (7x7):\")\n",
    "print(random_tensor)\n",
    "second_tensor = torch.randint(0, 10, (1, 7))\n",
    "print(\"\\nSecond Tensor (1x7):\")\n",
    "print(second_tensor)\n",
    "second_tensor_transposed = second_tensor.T\n",
    "print(\"\\nTransposed Second Tensor (7x1):\")\n",
    "print(second_tensor_transposed)\n",
    "result = torch.matmul(random_tensor, second_tensor_transposed)\n",
    "print(\"\\nResult of Matrix Multiplication (7x1):\")\n",
    "print(result)\n"
   ]
  },
  {
   "cell_type": "code",
   "execution_count": 15,
   "id": "d61a671a",
   "metadata": {},
   "outputs": [
    {
     "name": "stdout",
     "output_type": "stream",
     "text": [
      "Tensor A on device: cuda:0\n",
      "tensor([[-1.4934,  0.6714,  0.5709],\n",
      "        [-0.8294,  2.1402, -3.4594]], device='cuda:0')\n",
      "\n",
      "Tensor B on device: cuda:0\n",
      "tensor([[ 0.7867,  1.2492,  1.2983],\n",
      "        [-0.7684, -0.5730, -0.3678]], device='cuda:0')\n"
     ]
    }
   ],
   "source": [
    "#Q7create two random tensors of shape (2,3) and send them both to the gpu(you'll need access to a gpu for this)\n",
    "device = torch.device(\"cuda\" if torch.cuda.is_available() else \"cpu\")\n",
    "tensor_a = torch.randn(2, 3)\n",
    "tensor_b = torch.randn(2, 3)\n",
    "tensor_a = tensor_a.to(device)\n",
    "tensor_b = tensor_b.to(device)\n",
    "print(\"Tensor A on device:\", tensor_a.device)\n",
    "print(tensor_a)\n",
    "print(\"\\nTensor B on device:\", tensor_b.device)\n",
    "print(tensor_b)\n"
   ]
  },
  {
   "cell_type": "code",
   "execution_count": 17,
   "id": "d6701b4a",
   "metadata": {},
   "outputs": [
    {
     "name": "stdout",
     "output_type": "stream",
     "text": [
      "\n",
      "Matrix Multiplication Result (2, 2):\n",
      "tensor([[ 0.4051,  0.5529],\n",
      "        [-2.4704,  0.6834]], device='cuda:0')\n"
     ]
    }
   ],
   "source": [
    "#Q8 perform a matrix multiplication on the tensors you created in 7 (again you may have to adjust the shape of the one of the tensors).\n",
    "tensor_b_transposed = tensor_b.T  \n",
    "result = torch.matmul(tensor_a, tensor_b_transposed)\n",
    "print(\"\\nMatrix Multiplication Result (2, 2):\")\n",
    "print(result)"
   ]
  },
  {
   "cell_type": "code",
   "execution_count": 18,
   "id": "b03be3b2",
   "metadata": {},
   "outputs": [
    {
     "name": "stdout",
     "output_type": "stream",
     "text": [
      "\n",
      "Matrix Multiplication Result (2, 2):\n",
      "tensor([[ 0.4051,  0.5529],\n",
      "        [-2.4704,  0.6834]], device='cuda:0')\n",
      "\n",
      "Maximum value in the result: tensor(0.6834, device='cuda:0')\n",
      "Minimum value in the result: tensor(-2.4704, device='cuda:0')\n"
     ]
    }
   ],
   "source": [
    "#Q9find the max and min values of the output of 8\n",
    "max_value = torch.max(result)\n",
    "min_value = torch.min(result)\n",
    "print(\"\\nMatrix Multiplication Result (2, 2):\")\n",
    "print(result)\n",
    "print(\"\\nMaximum value in the result:\", max_value)\n",
    "print(\"Minimum value in the result:\", min_value)"
   ]
  },
  {
   "cell_type": "code",
   "execution_count": 19,
   "id": "896af885",
   "metadata": {},
   "outputs": [
    {
     "name": "stdout",
     "output_type": "stream",
     "text": [
      "\n",
      "Matrix Multiplication Result (2, 2):\n",
      "tensor([[ 0.4051,  0.5529],\n",
      "        [-2.4704,  0.6834]], device='cuda:0')\n",
      "\n",
      "Index of Maximum value: tensor(3, device='cuda:0')\n",
      "Index of Minimum value: tensor(2, device='cuda:0')\n"
     ]
    }
   ],
   "source": [
    "#Q10find the max and min index values of the output of 8\n",
    "max_index = torch.argmax(result)\n",
    "min_index = torch.argmin(result)\n",
    "print(\"\\nMatrix Multiplication Result (2, 2):\")\n",
    "print(result)\n",
    "print(\"\\nIndex of Maximum value:\", max_index)\n",
    "print(\"Index of Minimum value:\", min_index)"
   ]
  },
  {
   "cell_type": "code",
   "execution_count": 20,
   "id": "9a7d72f6",
   "metadata": {},
   "outputs": [
    {
     "name": "stdout",
     "output_type": "stream",
     "text": [
      "First Tensor (shape 1, 1, 1, 10):\n",
      "tensor([[[[-0.1468,  0.7861,  0.9468, -1.1143,  1.6908, -0.8948, -0.3556,\n",
      "            1.2324,  0.1382, -1.6822]]]])\n",
      "Shape of the first tensor: torch.Size([1, 1, 1, 10])\n",
      "\n",
      "Second Tensor (after squeeze, shape 10):\n",
      "tensor([-0.1468,  0.7861,  0.9468, -1.1143,  1.6908, -0.8948, -0.3556,  1.2324,\n",
      "         0.1382, -1.6822])\n",
      "Shape of the second tensor: torch.Size([10])\n"
     ]
    }
   ],
   "source": [
    "#Q11make a random tensor with shape (1,1,1,10) then create a new tensor with all the 1 dimensions removed to be left with a tensor of shape (10).set the seed to 7 when you create it and print out the first tensor and its shape as well as the sencond tensor and its shape.\n",
    "torch.manual_seed(7)\n",
    "tensor1 = torch.randn(1, 1, 1, 10)\n",
    "tensor2 = tensor1.squeeze()\n",
    "print(\"First Tensor (shape 1, 1, 1, 10):\")\n",
    "print(tensor1)\n",
    "print(\"Shape of the first tensor:\", tensor1.shape)\n",
    "print(\"\\nSecond Tensor (after squeeze, shape 10):\")\n",
    "print(tensor2)\n",
    "print(\"Shape of the second tensor:\", tensor2.shape)\n"
   ]
  },
  {
   "cell_type": "code",
   "execution_count": null,
   "id": "edc5da11",
   "metadata": {},
   "outputs": [],
   "source": []
  }
 ],
 "metadata": {
  "kernelspec": {
   "display_name": "python(myenv)",
   "language": "python",
   "name": "myenv"
  },
  "language_info": {
   "codemirror_mode": {
    "name": "ipython",
    "version": 3
   },
   "file_extension": ".py",
   "mimetype": "text/x-python",
   "name": "python",
   "nbconvert_exporter": "python",
   "pygments_lexer": "ipython3",
   "version": "3.12.3"
  }
 },
 "nbformat": 4,
 "nbformat_minor": 5
}
